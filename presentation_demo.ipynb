{
 "cells": [
  {
   "cell_type": "code",
   "execution_count": 1,
   "id": "d0275921-4474-4756-9da0-840dbcd097dc",
   "metadata": {},
   "outputs": [
    {
     "name": "stdout",
     "output_type": "stream",
     "text": [
      "[('Q146', 'house cat', 'domesticated feline'), ('Q4167836', 'Wikimedia category', \"use with 'instance of' (P31) for Wikimedia category\"), ('Q387278', 'Kellas cat', 'cat'), ('Q300918', 'cat', 'Unix utility that concatenates and lists files'), ('Q10813994', 'Tsim Tung Brother Cream', 'cat')]\n",
      "[('Q76', 'Barack Obama', 'president of the United States from 2009 to 2017'), ('Q61909968', 'Barack Obama', 'Wikimedia disambiguation page')]\n"
     ]
    },
    {
     "data": {
      "image/png": "[encoded data removed]",
      "text/plain": [
       "<Figure size 640x480 with 1 Axes>"
      ]
     },
     "metadata": {},
     "output_type": "display_data"
    },
    {
     "name": "stdout",
     "output_type": "stream",
     "text": [
      "query failed:  DESCRIBE wd:Q16521\n",
      "Q53401802 :  The end of rule by law. Burned by the scandal of predator priests, Boston's Cardinal steps down. His church's problems go on. / P921 :  main subject / Q170430 :  predation\n",
      "Q115524374 :  Selective predation and the species composition of arctic ponds / P921 :  main subject / Q170430 :  predation\n",
      "Q115508462 :  Predation risk-induced adjustments in provisioning behavior for Horned Lark (&lt;i&gt;Eremophila alpestris&lt;/i&gt;) in British Columbia / P921 :  main subject / Q170430 :  predation\n",
      "Q50104106 :  TRANSFER OF NEMERTEAN EGG PREDATORS DURING HOST MOLTING AND COPULATION. / P921 :  main subject / Q170430 :  predation\n",
      "Q115528395 :  Relationship between predation by Podisus nigrispinus and developmental phase and density of its prey, Plutella xylostella / P921 :  main subject / Q170430 :  predation\n",
      "Q52766912 :  Pseudohalonectriaceae / P105 :  taxon rank / Q35409 :  family\n",
      "Q60387750 :  Intraguild predation and prey preferences influence biological control of Paropsis charybdis by the southern ladybird, Cleobora mellyi / P921 :  main subject / Q170430 :  predation\n",
      "Q101567642 :  Amphiacanthidae / P105 :  taxon rank / Q35409 :  family\n",
      "Q16988525 :  Promicromonosporaceae / P105 :  taxon rank / Q35409 :  family\n",
      "Q113232446 :  Influence of the strong Allee effect on prey and the competition among predators in Leslie-Gower type predation models / P921 :  main subject / Q170430 :  predation\n",
      "Q40922756 :  Predator-prey interactions, flight initiation distance and brain size / P921 :  main subject / Q170430 :  predation\n",
      "Q38527959 :  Additive interactions between the moon snail Euspira heros and the sea star Asterias forbesi, two predators of the surfclam Spisula solidissima / P921 :  main subject / Q170430 :  predation\n",
      "Q115102000 :  helpful animal discovers jewel / P180 :  depicts / Q729 :  animal\n",
      "Q17632193 :  Turritellellidae / P105 :  taxon rank / Q35409 :  family\n",
      "Q115512611 :  Ant Predation on Eggs and Larvae of the Black Cutworm (Lepidoptera: Noctuidae) and Japanese Beetle (Coleoptera: Scarabaeidae) in Turfgrass / P921 :  main subject / Q170430 :  predation\n",
      "Q115531131 :  Communal Spawning in the Common Frog Rana temporaria- Egg Temperature and Predation Consequences / P921 :  main subject / Q170430 :  predation\n",
      "Q3401210 :  Praenuculidae / P105 :  taxon rank / Q35409 :  family\n",
      "Q37033388 :  Rate of removal of bird carcasses in arable farmland by predators and scavengers / P921 :  main subject / Q170430 :  predation\n",
      "Q20829073 :  Anagalidae / P105 :  taxon rank / Q35409 :  family\n",
      "Q1935998 :  Placochelyidae / P105 :  taxon rank / Q35409 :  family\n",
      "Q16760766 :  Pleuroacanthitidae / P105 :  taxon rank / Q35409 :  family\n",
      "Q4993797 :  Latocestidae / P105 :  taxon rank / Q35409 :  family\n",
      "Q58423532 :  Humeral epiphyseal shape in the felidae: The influence of phylogeny, allometry, and locomotion / P921 :  main subject / Q25265 :  Felidae\n",
      "Q8084729 :  Category:Families (biology) / P301 :  category's main topic / Q35409 :  family\n",
      "Q33134244 :  Celyphiidae / P105 :  taxon rank / Q35409 :  family\n",
      "Q48504156 :  Molecular detection of field predation among larvae of two ladybird beetles is partially predicted from laboratory experiments. / P921 :  main subject / Q170430 :  predation\n",
      "Q111814661 :  coyote burnt when hay is set afire: hence yellow patch behind his ears / P180 :  depicts / Q729 :  animal\n",
      "Q115527044 :  The struggle for safety: effectiveness of caterpillar defenses against bird predation / P921 :  main subject / Q170430 :  predation\n",
      "Q4476021 :  Cyclodorippidae / P105 :  taxon rank / Q35409 :  family\n",
      "Q61819026 :  Osstellidae / P105 :  taxon rank / Q35409 :  family\n",
      "Q58108225 :  Factors controlling seed predation by rodents and non-native Sus scrofa in Araucaria araucana forests: potential effects on seedling establishment / P921 :  main subject / Q170430 :  predation\n",
      "Q16636126 :  Stegnamminidae / P105 :  taxon rank / Q35409 :  family\n",
      "Q25361836 :  Strongylidiidae / P105 :  taxon rank / Q35409 :  family\n",
      "Q18635421 :  Nanosauridae / P105 :  taxon rank / Q35409 :  family\n",
      "Q43922063 :  Seed predators exert selection on the subindividual variation of seed size. / P921 :  main subject / Q170430 :  predation\n",
      "Q16983669 :  Isocrinidae / P105 :  taxon rank / Q35409 :  family\n",
      "Q40704256 :  Further studies on Toxascaris leonina (Linstow, 1902) (Ascaridida: Ascarididae) from Felis lynx (Linnaeus) and Panthera leo (Linnaeus) (Carnivora: Felidae). / P921 :  main subject / Q25265 :  Felidae\n",
      "Q111815067 :  How animals got horns / P180 :  depicts / Q729 :  animal\n",
      "Q5314056 :  Dunaliellaceae / P105 :  taxon rank / Q35409 :  family\n",
      "Q112782711 :  Reproductive phenological shifts and other phylogenetic trait changes in the Arbutoideae (Ericaceae) in the context of drought, seed predation, and fire / P921 :  main subject / Q170430 :  predation\n",
      "Q60523911 :  Seed Predation on the Ground or in the Tree? Size-Related Differences in Behavior and Ecology of Granivorous Birds / P921 :  main subject / Q170430 :  predation\n",
      "Q115494671 :  Underground Concealment as a Method of Predation / P921 :  main subject / Q170430 :  predation\n",
      "Q115484412 :  Zooplankton Composition in the Tsugaru-Juniko Lakes, Northern Japan, with Reference to Predation Impact. / P921 :  main subject / Q170430 :  predation\n",
      "Q121031722 :  Clathrostomatidae / P105 :  taxon rank / Q35409 :  family\n",
      "Q4045470 :  Nordiidae / P105 :  taxon rank / Q35409 :  family\n",
      "Q1953384 :  Arctopsychidae / P105 :  taxon rank / Q35409 :  family\n",
      "Q6737247 :  Maizaniidae / P105 :  taxon rank / Q35409 :  family\n",
      "Q115507412 :  Predation on Rainbow Ameivas, Holcosus undulatus (sensu lato), and a second record of predation on H. amphigrammus (Smith and Laufe 1945) by a Terciopelo (Bothrops asper) in Veracruz, Mexico / P921 :  main subject / Q170430 :  predation\n",
      "Q20011927 :  Haliestidae / P105 :  taxon rank / Q35409 :  family\n",
      "Q92010679 :  Autographiviridae / P105 :  taxon rank / Q35409 :  family\n",
      "Q46953711 :  Rapid prey evolution can alter the structure of predator-prey communities. / P921 :  main subject / Q170430 :  predation\n",
      "Q111815585 :  why white crow is dumb / P180 :  depicts / Q729 :  animal\n",
      "Q11846936 :  Pleurocopidae / P105 :  taxon rank / Q35409 :  family\n",
      "Q51871896 :  Predation-mediated coexistence of large- and small-bodied Daphnia at different food levels. / P921 :  main subject / Q170430 :  predation\n",
      "Q20991988 :  Acaremyidae / P105 :  taxon rank / Q35409 :  family\n",
      "Q15650168 :  Eumenidae / P105 :  taxon rank / Q35409 :  family\n",
      "Q37937539 :  Auditory adaptations for prey capture in echolocating bats / P921 :  main subject / Q170430 :  predation\n",
      "Q3060077 :  dead animals in nature / P279 :  subclass of / Q729 :  animal\n",
      "Q51331945 :  To breed, or not to breed? Predation risk induces breeding suppression in common voles. / P921 :  main subject / Q170430 :  predation\n",
      "Q51360897 :  Maternal steroids in egg yolk as a pathway to translate predation risk to offspring: experiments with great tits. / P921 :  main subject / Q170430 :  predation\n",
      "Q115095477 :  serpent with human head / P180 :  depicts / Q729 :  animal\n",
      "Q62488344 :  Specialized movement and laterality of fin-biting behaviour in in Lake Malawi / P921 :  main subject / Q170430 :  predation\n",
      "Q7237651 :  Pragoscutulidae / P105 :  taxon rank / Q35409 :  family\n",
      "Q19905032 :  The Nativity / P180 :  depicts / Q729 :  animal\n",
      "Q21072156 :  Euoplozoidae / P105 :  taxon rank / Q35409 :  family\n",
      "Q111814885 :  garden warbler hears smith beat iron: learns its song / P180 :  depicts / Q729 :  animal\n",
      "Q115494276 :  Microhabitat Use by a Small Diurnal Rodent (Octodon degus) in a Semiarid Environment: Thermoregulatory Constraints or Predation Risk? / P921 :  main subject / Q170430 :  predation\n",
      "Q3076242 :  Ancylidae / P105 :  taxon rank / Q35409 :  family\n",
      "Q33135203 :  Echinoencrinitidae / P105 :  taxon rank / Q35409 :  family\n",
      "Q115497519 :  What  &lt;i&gt;Brooke Group&lt;/i&gt; Joined Let None Put Asunder: The Need for the Price-Cost and Recoupment Prongs in Analyzing Digital Predation / P921 :  main subject / Q170430 :  predation\n",
      "Q2906133 :  Membraniporidae / P105 :  taxon rank / Q35409 :  family\n",
      "Q113871497 :  Feed or flee: Effect of a predation-risk cue on sea urchin foraging activity / P921 :  main subject / Q170430 :  predation\n",
      "Q8138171 :  Category:1939 animal deaths / P4224 :  category contains / Q729 :  animal\n",
      "Q115093659 :  faithful animal at master's grave dies of hunger / P180 :  depicts / Q729 :  animal\n",
      "Q33134369 :  Holzapfeloceratidae / P105 :  taxon rank / Q35409 :  family\n",
      "Q21225242 :  Eubleptidae / P105 :  taxon rank / Q35409 :  family\n",
      "Q122105125 :  No label defined / P921 :  main subject / Q729 :  animal\n",
      "Q48499568 :  The effects of telencephalic lesions on visually mediated prey orienting behavior in the leopard frog (Rana pipiens). II. The effects of limited lesions to the telencephalon. / P921 :  main subject / Q170430 :  predation\n",
      "Q121743230 :  Titanohyracidae / P105 :  taxon rank / Q35409 :  family\n",
      "Q103837858 :  Pleistosporidiidae / P105 :  taxon rank / Q35409 :  family\n",
      "Q5266331 :  Molineidae / P105 :  taxon rank / Q35409 :  family\n",
      "Q115604339 :  Absence of predation eliminates coexistence: experience from the fish–zooplankton interface / P921 :  main subject / Q170430 :  predation\n",
      "Q21293690 :  Nematoparataeniidae / P105 :  taxon rank / Q35409 :  family\n",
      "Q111816193 :  enmity between crab and spider / P180 :  depicts / Q729 :  animal\n",
      "Q35146568 :  Cochleariidae / P105 :  taxon rank / Q35409 :  family\n",
      "Q115484149 :  Predation by Feral Cat on Streaked Shearwater chicks on Awashima / P921 :  main subject / Q170430 :  predation\n",
      "Q45056933 :  Sling, Scoop, and Squirter: Anatomical Features Facilitating Prey Transport, Processing, and Swallowing in Rorqual Whales (Mammalia: Balaenopteridae). / P921 :  main subject / Q170430 :  predation\n",
      "Q56975065 :  Predation, competition, and the recovery of overexploited fish stocks in marine reserves / P921 :  main subject / Q170430 :  predation\n",
      "Q12156161 :  Biseriamminidae / P105 :  taxon rank / Q35409 :  family\n",
      "Q114390429 :  Tool use and predation of oysters (Crassostrea rhizophorae) by the tufted capuchin,Cebus apella appella, in brackish water mangrove swamp / P921 :  main subject / Q170430 :  predation\n",
      "Q60538045 :  Genetic Structure and Phenotypic Plasticity of Yellow Perch (Perca Flavescens) Populations Influenced by Habitat, Predation, and Contamination Gradients / P921 :  main subject / Q170430 :  predation\n",
      "Q10421958 :  Atractogloeaceae / P105 :  taxon rank / Q35409 :  family\n",
      "Q56325618 :  Nigerophiidae / P105 :  taxon rank / Q35409 :  family\n",
      "Q115494910 :  Predation on Vertebrates by Clark's Nutcrackers / P921 :  main subject / Q170430 :  predation\n",
      "Q86074249 :  Jussiaeaceae / P105 :  taxon rank / Q35409 :  family\n",
      "Q60160640 :  Towards a mechanistic understanding of human-induced rapid environmental change: a case study linking energy development, nest predation and predators / P921 :  main subject / Q170430 :  predation\n",
      "Q52292338 :  Lithium chloride-produced prey aversion in the toad (Bufo americanus) / P921 :  main subject / Q170430 :  predation\n",
      "Q19570332 :  Uroactinidae / P105 :  taxon rank / Q35409 :  family\n",
      "Q29253416 :  Pseudocardiniidae / P105 :  taxon rank / Q35409 :  family\n",
      "Q115094260 :  venomous swine / P180 :  depicts / Q729 :  animal\n"
     ]
    }
   ],
   "source": [
    "%run graph.ipynb"
   ]
  },
  {
   "cell_type": "code",
   "execution_count": 5,
   "id": "cf3e4e7d-a7b7-4684-8436-be812b8815d0",
   "metadata": {},
   "outputs": [],
   "source": [
    "# create_graph()\n",
    "# edges_to_triples(G, n)\n",
    "# get_qid()"
   ]
  },
  {
   "cell_type": "code",
   "execution_count": 13,
   "id": "1f097eeb-9ec4-43f8-8481-ce5f039312ac",
   "metadata": {},
   "outputs": [
    {
     "name": "stdout",
     "output_type": "stream",
     "text": [
      "[('Q503', 'banana', 'elongated, edible fruit produced by several kinds of large herbaceous flowering plants in the genus Musa'), ('Q94643', 'Musa balbisiana', 'species of plant'), ('Q8666090', 'Musa', 'genus of plants')]\n"
     ]
    },
    {
     "data": {
      "text/plain": [
       "'Q503'"
      ]
     },
     "execution_count": 13,
     "metadata": {},
     "output_type": "execute_result"
    }
   ],
   "source": [
    "get_qid(\"banana\")"
   ]
  },
  {
   "cell_type": "code",
   "execution_count": 14,
   "id": "d6b921a4-6029-438b-8997-85afc4e0689e",
   "metadata": {},
   "outputs": [],
   "source": [
    "g, core = create_graph(\"Q503\", 1)"
   ]
  },
  {
   "cell_type": "code",
   "execution_count": 15,
   "id": "1ef2bf81-1ed8-4431-8a43-abe962bedaab",
   "metadata": {},
   "outputs": [
    {
     "name": "stdout",
     "output_type": "stream",
     "text": [
      "Q6210060 :  Category:Bananas / P301 :  category's main topic / Q503 :  banana\n",
      "Q115911198 :  Banana : French colonial empire / P921 :  main subject / Q503 :  banana\n",
      "Q115911199 :  Banana : Greece / P921 :  main subject / Q503 :  banana\n",
      "Q4853878 :  banana wine / P186 :  made from material / Q503 :  banana\n",
      "Q113431345 :  Banana : Sierra Leone / P921 :  main subject / Q503 :  banana\n",
      "Q94203673 :  Bananas Foster cheesecake / P527 :  has part(s) / Q503 :  banana\n",
      "Q113431260 :  Banana : Germany / P921 :  main subject / Q503 :  banana\n",
      "Q17047960 :  maraca pie / P527 :  has part(s) / Q503 :  banana\n",
      "Q67825257 :  No label defined / P921 :  main subject / Q503 :  banana\n",
      "Q3211448 :  pisang goreng / P186 :  made from material / Q503 :  banana\n"
     ]
    }
   ],
   "source": [
    "edges_to_triples(g, 10)"
   ]
  },
  {
   "cell_type": "code",
   "execution_count": null,
   "id": "1a0eaef3-3a66-4a0c-ba39-5fbb181be9d5",
   "metadata": {},
   "outputs": [],
   "source": []
  }
 ],
 "metadata": {
  "kernelspec": {
   "display_name": "Python 3 (ipykernel)",
   "language": "python",
   "name": "python3"
  },
  "language_info": {
   "codemirror_mode": {
    "name": "ipython",
    "version": 3
   },
   "file_extension": ".py",
   "mimetype": "text/x-python",
   "name": "python",
   "nbconvert_exporter": "python",
   "pygments_lexer": "ipython3",
   "version": "3.9.18"
  }
 },
 "nbformat": 4,
 "nbformat_minor": 5
}
