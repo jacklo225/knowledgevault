{
 "cells": [
  {
   "cell_type": "code",
   "execution_count": 2,
   "id": "284f02d3",
   "metadata": {},
   "outputs": [
    {
     "name": "stdout",
     "output_type": "stream",
     "text": [
      "[('Q146', 'house cat', 'domesticated feline'), ('Q4167836', 'Wikimedia category', \"use with 'instance of' (P31) for Wikimedia category\"), ('Q387278', 'Kellas cat', 'cat'), ('Q300918', 'cat', 'Unix utility that concatenates and lists files'), ('Q10813994', 'Tsim Tung Brother Cream', 'cat')]\n",
      "[('Q76', 'Barack Obama', 'president of the United States from 2009 to 2017'), ('Q61909968', 'Barack Obama', 'Wikimedia disambiguation page')]\n",
      "2\n"
     ]
    }
   ],
   "source": [
    "%run wikidata_functions.ipynb"
   ]
  },
  {
   "cell_type": "code",
   "execution_count": 3,
   "id": "302431a9",
   "metadata": {},
   "outputs": [],
   "source": [
    "import networkx as nx\n",
    "import matplotlib.pyplot as plt"
   ]
  },
  {
   "cell_type": "code",
   "execution_count": 153,
   "id": "8351ffa2-1bf3-42d9-922e-2dbd36f39221",
   "metadata": {},
   "outputs": [],
   "source": [
    "import random\n",
    "import time\n",
    "import re\n",
    "import pickle"
   ]
  },
  {
   "cell_type": "code",
   "execution_count": 148,
   "id": "79354004-01f3-4b75-aea2-48f815872b5d",
   "metadata": {},
   "outputs": [],
   "source": [
    "from chatgpt_api import query_gpt"
   ]
  },
  {
   "cell_type": "code",
   "execution_count": 5,
   "id": "465c7e2f",
   "metadata": {},
   "outputs": [],
   "source": [
    "G = nx.DiGraph()"
   ]
  },
  {
   "cell_type": "code",
   "execution_count": 6,
   "id": "e8986631",
   "metadata": {},
   "outputs": [],
   "source": [
    "G.add_node(\"item:Garfield\")"
   ]
  },
  {
   "cell_type": "code",
   "execution_count": 7,
   "id": "654d9008",
   "metadata": {},
   "outputs": [],
   "source": [
    "G.add_node(\"item:cat\")"
   ]
  },
  {
   "cell_type": "code",
   "execution_count": 8,
   "id": "6c349ae0",
   "metadata": {},
   "outputs": [],
   "source": [
    "# G.add_edge(\"item:Garfield\", \"item:cat\", object=\"predicate:is a\")"
   ]
  },
  {
   "cell_type": "code",
   "execution_count": 9,
   "id": "455d9bfe",
   "metadata": {},
   "outputs": [],
   "source": [
    "G.add_edge(\"item:Garfield\", \"item:cat\")\n",
    "G[\"item:Garfield\"][\"item:cat\"][\"predicate\"]=\"is_a\""
   ]
  },
  {
   "cell_type": "code",
   "execution_count": 10,
   "id": "fde2ca78",
   "metadata": {},
   "outputs": [
    {
     "data": {
      "text/plain": [
       "{('item:Garfield', 'item:cat'): Text(0.0, 0.0, \"{'predicate': 'is_a'}\")}"
      ]
     },
     "execution_count": 10,
     "metadata": {},
     "output_type": "execute_result"
    },
    {
     "data": {
      "image/png": "[encoded data removed]",
      "text/plain": [
       "<Figure size 640x480 with 1 Axes>"
      ]
     },
     "metadata": {},
     "output_type": "display_data"
    }
   ],
   "source": [
    "nx.draw(G, with_labels=True)\n",
    "nx.draw_networkx_edge_labels(G, pos=nx.spring_layout(G))"
   ]
  },
  {
   "cell_type": "code",
   "execution_count": 11,
   "id": "d8d33d48",
   "metadata": {},
   "outputs": [],
   "source": [
    "cat_query = 'DESCRIBE wd:Q146'\n",
    "\n",
    "results = query_wikidata(cat_query)\n",
    "cat_triples = process_describe(results, 1, 500000)"
   ]
  },
  {
   "cell_type": "code",
   "execution_count": 12,
   "id": "79c19f63",
   "metadata": {},
   "outputs": [],
   "source": [
    "cat_G = nx.DiGraph()"
   ]
  },
  {
   "cell_type": "code",
   "execution_count": 14,
   "id": "320bea7a-705d-43e9-b822-3844e8d7390f",
   "metadata": {},
   "outputs": [],
   "source": [
    "def add_triples(G, triples):\n",
    "    for t in triples:\n",
    "        G.add_node(t[0])\n",
    "        G.add_node(t[2])\n",
    "        G.add_edge(t[0], t[2])\n",
    "        G[t[0]][t[2]][\"pred\"] = t[1]"
   ]
  },
  {
   "cell_type": "code",
   "execution_count": 92,
   "id": "ccaf653c-ffce-47f4-a192-cd8513297f7b",
   "metadata": {},
   "outputs": [],
   "source": [
    "def create_graph (start = 'Q146', layers = 1):\n",
    "    G = nx.DiGraph()\n",
    "    curr = [start]\n",
    "    core = set()\n",
    "    for i in range(layers):\n",
    "        nxt = []\n",
    "        core.update(curr)\n",
    "        print(core)\n",
    "        for seed in curr:\n",
    "            print(seed) \n",
    "            # query = f\"DESCRIBE wd:{seed}\"\n",
    "            # print(\"processing \", seed)\n",
    "            query = make_construct_query(seed)\n",
    "            results = query_wikidata(query)\n",
    "            triples = process_construct(results, 1, 500000)\n",
    "            # print(triples)\n",
    "        \n",
    "            add_triples(G, triples)\n",
    "        \n",
    "            for nb in G.neighbors(seed):\n",
    "                label = get_label_from_qid(nb) \n",
    "                # print(nb, label)\n",
    "                nxt.append(nb)\n",
    "\n",
    "        nxt = list(filter(lambda s: int(s[1:]) <= 1000, nxt))\n",
    "        curr = nxt\n",
    "\n",
    "    return G, core"
   ]
  },
  {
   "cell_type": "code",
   "execution_count": 85,
   "id": "497d628f-f0f5-416e-b297-9632d77907fd",
   "metadata": {},
   "outputs": [],
   "source": [
    "def edges_to_triples(G, n=None, randomize=True):\n",
    "    if n == None:\n",
    "        n = min(10, G.number_of_edges())\n",
    "    if G.number_of_edges() < n:\n",
    "        n = G.number_of_edges()\n",
    "\n",
    "    if randomize: \n",
    "        l = random.sample(list(G.edges.data('pred')), n)\n",
    "    else:\n",
    "        l = list(G.edges.data('pred'))[:n]\n",
    "        \n",
    "    for Q1, Q2, P in l:\n",
    "        q1 = get_label_from_qid(Q1)\n",
    "        q2 = get_label_from_qid(Q2)\n",
    "        p = get_property_from_pid(P)\n",
    "        print(Q1, \": \", q1, \"/\", P, \": \", p, \"/\", Q2, \": \",q2)"
   ]
  },
  {
   "cell_type": "code",
   "execution_count": 80,
   "id": "8dfdeb24-5f4d-415a-b18e-d22c2eef97dc",
   "metadata": {},
   "outputs": [
    {
     "name": "stdout",
     "output_type": "stream",
     "text": [
      "processing  Q146\n",
      "[('Q146', 'P1552', 'Q170430'), ('Q146', 'P279', 'Q25265'), ('Q146', 'P279', 'Q39201'), ('Q146', 'P366', 'Q39201')]\n"
     ]
    }
   ],
   "source": [
    "cat_G2, core = create_graph(layers = 3)"
   ]
  },
  {
   "cell_type": "code",
   "execution_count": 81,
   "id": "88a92075-acef-4329-959a-06649e17f462",
   "metadata": {},
   "outputs": [
    {
     "data": {
      "text/plain": [
       "4"
      ]
     },
     "execution_count": 81,
     "metadata": {},
     "output_type": "execute_result"
    }
   ],
   "source": [
    "cat_G2.number_of_nodes()"
   ]
  },
  {
   "cell_type": "code",
   "execution_count": 90,
   "id": "f0317952-c5fd-4343-9979-d05a3de59c3a",
   "metadata": {},
   "outputs": [
    {
     "name": "stdout",
     "output_type": "stream",
     "text": [
      "147.33810710906982\n"
     ]
    }
   ],
   "source": [
    "t1 = time.time()\n",
    "G2, core2 = create_graph(\"Q76\", 2)\n",
    "t2 = time.time()\n",
    "print(t2-t1)"
   ]
  },
  {
   "cell_type": "code",
   "execution_count": 101,
   "id": "3f39b968-ed68-4d6d-896f-6e685dca3c23",
   "metadata": {},
   "outputs": [],
   "source": [
    "# save graph object to file\n",
    "pickle.dump(G2, open('graphs/obama_2.pickle', 'wb'))\n",
    "pickle.dump(core2, open('graphs/obama_2_core.pickle', 'wb'))"
   ]
  },
  {
   "cell_type": "markdown",
   "id": "f342a50a-6c63-4860-b17d-c2e362fcf7aa",
   "metadata": {},
   "source": [
    "list(map(get_label_from_qid2, list(filter(lambda s: int(s[1:]) <= 10000, core))))"
   ]
  },
  {
   "cell_type": "code",
   "execution_count": 93,
   "id": "a9712c15-c657-4e1b-a3a7-9cd217de7639",
   "metadata": {},
   "outputs": [
    {
     "name": "stdout",
     "output_type": "stream",
     "text": [
      "{'Q76'}\n",
      "Q76\n",
      "{'Q30', 'Q114', 'Q76', 'Q61', 'Q5'}\n",
      "Q5\n",
      "Q30\n",
      "Q114\n",
      "Q61\n",
      "{'Q874', 'Q760', 'Q42', 'Q361', 'Q298', 'Q1000', 'Q819', 'Q76', 'Q39', 'Q664', 'Q189', 'Q215', 'Q242', 'Q948', 'Q788', 'Q347', 'Q31', 'Q759', 'Q801', 'Q419', 'Q797', 'Q786', 'Q784', 'Q225', 'Q769', 'Q986', 'Q232', 'Q945', 'Q90', 'Q804', 'Q79', 'Q235', 'Q924', 'Q912', 'Q657', 'Q974', 'Q796', 'Q41', 'Q710', 'Q916', 'Q970', 'Q32', 'Q843', 'Q878', 'Q96', 'Q851', 'Q757', 'Q730', 'Q88', 'Q15', 'Q458', 'Q49', 'Q398', 'Q812', 'Q403', 'Q805', 'Q858', 'Q28', 'Q695', 'Q771', 'Q790', 'Q214', 'Q148', 'Q954', 'Q711', 'Q702', 'Q258', 'Q30', 'Q45', 'Q265', 'Q230', 'Q928', 'Q227', 'Q956', 'Q424', 'Q967', 'Q965', 'Q173', 'Q184', 'Q902', 'Q800', 'Q224', 'Q244', 'Q252', 'Q817', 'Q16', 'Q766', 'Q750', 'Q889', 'Q736', 'Q971', 'Q43', 'Q414', 'Q98', 'Q983', 'Q191', 'Q77', 'Q142', 'Q315', 'Q709', 'Q217', 'Q228', 'Q38', 'Q36', 'Q211', 'Q574', 'Q953', 'Q683', 'Q824', 'Q813', 'Q220', 'Q99', 'Q833', 'Q399', 'Q183', 'Q240', 'Q115', 'Q881', 'Q145', 'Q40', 'Q921', 'Q734', 'Q686', 'Q222', 'Q977', 'Q712', 'Q5', 'Q816', 'Q114', 'Q33', 'Q23', 'Q233', 'Q863', 'Q408', 'Q836', 'Q724', 'Q672', 'Q229', 'Q779', 'Q829', 'Q668', 'Q826', 'Q35', 'Q34', 'Q213', 'Q97', 'Q262', 'Q691', 'Q362', 'Q334', 'Q822', 'Q884', 'Q865', 'Q117', 'Q962', 'Q221', 'Q774', 'Q963', 'Q17', 'Q61', 'Q218', 'Q159', 'Q37', 'Q717', 'Q20', 'Q423', 'Q958', 'Q854', 'Q488', 'Q828', 'Q27', 'Q811', 'Q733', 'Q754', 'Q762', 'Q782', 'Q783', 'Q55', 'Q212', 'Q155', 'Q792', 'Q236', 'Q837'}\n",
      "Q315\n",
      "Q762\n",
      "Q42\n",
      "Q49\n",
      "Q788\n",
      "Q98\n",
      "Q97\n",
      "Q262\n",
      "Q265\n",
      "Q298\n",
      "Q334\n",
      "Q347\n",
      "Q398\n",
      "Q399\n",
      "Q403\n",
      "Q408\n",
      "Q414\n",
      "Q419\n",
      "Q424\n",
      "Q458\n",
      "Q574\n",
      "Q657\n",
      "Q664\n",
      "Q668\n",
      "Q672\n",
      "Q683\n",
      "Q686\n",
      "Q691\n",
      "Q695\n",
      "Q702\n",
      "Q710\n",
      "Q711\n",
      "Q709\n",
      "Q712\n",
      "Q717\n",
      "Q730\n",
      "Q734\n",
      "Q733\n",
      "Q736\n",
      "Q750\n",
      "Q754\n",
      "Q757\n",
      "Q760\n",
      "Q766\n",
      "Q769\n",
      "Q774\n",
      "Q16\n",
      "Q17\n",
      "Q20\n",
      "Q27\n",
      "Q31\n",
      "Q28\n",
      "Q34\n",
      "Q35\n",
      "Q32\n",
      "Q33\n",
      "Q38\n",
      "Q39\n",
      "Q36\n",
      "Q37\n",
      "Q43\n",
      "Q41\n",
      "Q45\n",
      "Q55\n",
      "Q77\n",
      "Q96\n",
      "Q115\n",
      "Q117\n",
      "Q142\n",
      "Q145\n",
      "Q148\n",
      "Q155\n",
      "Q159\n",
      "Q183\n",
      "Q184\n",
      "Q191\n",
      "Q189\n",
      "Q211\n",
      "Q214\n",
      "Q215\n",
      "Q212\n",
      "Q213\n",
      "Q218\n",
      "Q217\n",
      "Q222\n",
      "Q221\n",
      "Q227\n",
      "Q224\n",
      "Q225\n",
      "Q230\n",
      "Q228\n",
      "Q229\n",
      "Q235\n",
      "Q232\n",
      "Q233\n",
      "Q236\n",
      "Q242\n",
      "Q244\n",
      "Q252\n",
      "Q828\n",
      "Q724\n",
      "Q759\n",
      "Q771\n",
      "Q779\n",
      "Q782\n",
      "Q797\n",
      "Q812\n",
      "Q816\n",
      "Q824\n",
      "Q829\n",
      "Q30\n",
      "Q61\n",
      "Q99\n",
      "Q173\n",
      "Q783\n",
      "Q786\n",
      "Q784\n",
      "Q790\n",
      "Q792\n",
      "Q796\n",
      "Q800\n",
      "Q801\n",
      "Q804\n",
      "Q805\n",
      "Q811\n",
      "Q813\n",
      "Q819\n",
      "Q817\n",
      "Q822\n",
      "Q826\n",
      "Q833\n",
      "Q836\n",
      "Q837\n",
      "Q843\n",
      "Q851\n",
      "Q854\n",
      "Q858\n",
      "Q863\n",
      "Q865\n",
      "Q874\n",
      "Q881\n",
      "Q884\n",
      "Q889\n",
      "Q902\n",
      "Q912\n",
      "Q916\n",
      "Q921\n",
      "Q924\n",
      "Q928\n",
      "Q945\n",
      "Q948\n",
      "Q953\n",
      "Q958\n",
      "Q962\n",
      "Q963\n",
      "Q967\n",
      "Q965\n",
      "Q970\n",
      "Q971\n",
      "Q974\n",
      "Q977\n",
      "Q983\n",
      "Q986\n",
      "Q1000\n",
      "Q362\n",
      "Q361\n",
      "Q488\n",
      "Q16\n",
      "Q35\n",
      "Q38\n",
      "Q40\n",
      "Q41\n",
      "Q79\n",
      "Q96\n",
      "Q115\n",
      "Q145\n",
      "Q148\n",
      "Q159\n",
      "Q183\n",
      "Q212\n",
      "Q230\n",
      "Q924\n",
      "Q958\n",
      "Q15\n",
      "Q114\n",
      "Q258\n",
      "Q262\n",
      "Q408\n",
      "Q423\n",
      "Q458\n",
      "Q668\n",
      "Q833\n",
      "Q843\n",
      "Q851\n",
      "Q854\n",
      "Q865\n",
      "Q878\n",
      "Q884\n",
      "Q902\n",
      "Q916\n",
      "Q954\n",
      "Q953\n",
      "Q252\n",
      "Q956\n",
      "Q30\n",
      "Q49\n",
      "Q88\n",
      "Q23\n",
      "Q90\n",
      "Q220\n",
      "Q240\n",
      "4919.79807472229\n"
     ]
    }
   ],
   "source": [
    "t1 = time.time()\n",
    "G3, core3 = create_graph(\"Q76\", 3)\n",
    "t2 = time.time()\n",
    "print(t2-t1)"
   ]
  },
  {
   "cell_type": "code",
   "execution_count": 102,
   "id": "99d8440c-4223-4acc-8f56-e3b11093ab50",
   "metadata": {},
   "outputs": [],
   "source": [
    "# save graph object to file\n",
    "pickle.dump(G3, open('graphs/obama_3.pickle', 'wb'))\n",
    "pickle.dump(core3, open('graphs/obama_3_core.pickle', 'wb'))"
   ]
  },
  {
   "cell_type": "code",
   "execution_count": 149,
   "id": "e0527b8e-e724-4a9b-96fb-193e863341fa",
   "metadata": {},
   "outputs": [],
   "source": [
    "G3 = pickle.load(open('graphs/obama_3.pickle', 'rb'))\n",
    "core3 = pickle.load(open('graphs/obama_3_core.pickle', 'rb'))"
   ]
  },
  {
   "cell_type": "code",
   "execution_count": 150,
   "id": "e9d2c41e-a537-4d56-8e9c-1aabb39f8803",
   "metadata": {},
   "outputs": [],
   "source": [
    "pred = list(map(lambda e:e[2], list(G3.edges.data('pred'))))"
   ]
  },
  {
   "cell_type": "code",
   "execution_count": 151,
   "id": "a161e4b2-762d-46b1-9d84-ca9110d5feef",
   "metadata": {},
   "outputs": [
    {
     "data": {
      "text/plain": [
       "Counter({'P530': 5668,\n",
       "         'P463': 2489,\n",
       "         'P150': 2134,\n",
       "         'P2936': 2035,\n",
       "         'P47': 407,\n",
       "         'P31': 294,\n",
       "         'P421': 215,\n",
       "         'P361': 209,\n",
       "         'P832': 194,\n",
       "         'P17': 175,\n",
       "         'P78': 159,\n",
       "         'P163': 158,\n",
       "         'P30': 157,\n",
       "         'P237': 145,\n",
       "         'P206': 144,\n",
       "         'P38': 141,\n",
       "         'P37': 138,\n",
       "         'P527': 137,\n",
       "         'P190': 131,\n",
       "         'P36': 122,\n",
       "         'P172': 120,\n",
       "         'P1589': 114,\n",
       "         'P85': 112,\n",
       "         'P122': 110,\n",
       "         'P205': 100,\n",
       "         'P1889': 88,\n",
       "         'P706': 82,\n",
       "         'P1365': 76,\n",
       "         'P2184': 73,\n",
       "         'P793': 70,\n",
       "         'P140': 69,\n",
       "         'P610': 69,\n",
       "         'P1343': 66,\n",
       "         'P138': 66,\n",
       "         'P35': 64,\n",
       "         'P2238': 55,\n",
       "         'P1344': 47,\n",
       "         'P194': 31,\n",
       "         'P6': 31,\n",
       "         'P8744': 28,\n",
       "         'P106': 27,\n",
       "         'P2633': 27,\n",
       "         'P1304': 25,\n",
       "         'P1906': 23,\n",
       "         'P6379': 21,\n",
       "         'P200': 21,\n",
       "         'P3075': 21,\n",
       "         'P1830': 18,\n",
       "         'P1313': 18,\n",
       "         'P417': 18,\n",
       "         'P131': 16,\n",
       "         'P2596': 16,\n",
       "         'P276': 15,\n",
       "         'P710': 13,\n",
       "         'P9241': 12,\n",
       "         'P155': 12,\n",
       "         'P457': 11,\n",
       "         'P209': 11,\n",
       "         'P9929': 11,\n",
       "         'P937': 9,\n",
       "         'P1552': 9,\n",
       "         'P166': 8,\n",
       "         'P2579': 8,\n",
       "         'P1546': 8,\n",
       "         'P10624': 8,\n",
       "         'P208': 7,\n",
       "         'P800': 7,\n",
       "         'P1376': 7,\n",
       "         'P27': 6,\n",
       "         'P5869': 6,\n",
       "         'P807': 6,\n",
       "         'P101': 5,\n",
       "         'P460': 5,\n",
       "         'P2670': 5,\n",
       "         'P3461': 5,\n",
       "         'P1479': 5,\n",
       "         'P39': 4,\n",
       "         'P136': 4,\n",
       "         'P103': 4,\n",
       "         'P6364': 4,\n",
       "         'P159': 4,\n",
       "         'P418': 4,\n",
       "         'P910': 4,\n",
       "         'P2964': 4,\n",
       "         'P156': 4,\n",
       "         'P1542': 4,\n",
       "         'P108': 3,\n",
       "         'P6886': 3,\n",
       "         'P69': 3,\n",
       "         'P92': 3,\n",
       "         'P859': 3,\n",
       "         'P1066': 3,\n",
       "         'P802': 3,\n",
       "         'P3938': 3,\n",
       "         'P1441': 3,\n",
       "         'P112': 3,\n",
       "         'P1336': 3,\n",
       "         'P828': 3,\n",
       "         'P501': 3,\n",
       "         'P551': 3,\n",
       "         'P607': 3,\n",
       "         'P26': 2,\n",
       "         'P102': 2,\n",
       "         'P3602': 2,\n",
       "         'P737': 2,\n",
       "         'P1050': 2,\n",
       "         'P2283': 2,\n",
       "         'P279': 2,\n",
       "         'P1382': 2,\n",
       "         'P19': 2,\n",
       "         'P355': 2,\n",
       "         'P912': 2,\n",
       "         'P2746': 2,\n",
       "         'P61': 2,\n",
       "         'P1424': 2,\n",
       "         'P462': 2,\n",
       "         'P1792': 2,\n",
       "         'P241': 2,\n",
       "         'P1142': 1,\n",
       "         'P1412': 1,\n",
       "         'P4733': 1,\n",
       "         'P10888': 1,\n",
       "         'P1151': 1,\n",
       "         'P22': 1,\n",
       "         'P119': 1,\n",
       "         'P1576': 1,\n",
       "         'P20': 1,\n",
       "         'P1303': 1,\n",
       "         'P509': 1,\n",
       "         'P734': 1,\n",
       "         'P735': 1,\n",
       "         'P2652': 1,\n",
       "         'P180': 1,\n",
       "         'P629': 1,\n",
       "         'P1419': 1,\n",
       "         'P740': 1,\n",
       "         'P6803': 1,\n",
       "         'P8324': 1,\n",
       "         'P641': 1,\n",
       "         'P500': 1,\n",
       "         'P1478': 1,\n",
       "         'P1269': 1,\n",
       "         'P2872': 1,\n",
       "         'P25': 1,\n",
       "         'P410': 1,\n",
       "         'P1454': 1,\n",
       "         'P2564': 1})"
      ]
     },
     "execution_count": 151,
     "metadata": {},
     "output_type": "execute_result"
    }
   ],
   "source": [
    "from collections import Counter\n",
    "Counter(pred)"
   ]
  },
  {
   "cell_type": "markdown",
   "id": "c2ce550b-ca8a-4748-86e7-c3c74b6391ee",
   "metadata": {},
   "source": [
    "Top 4 predicates seen, all above 2000 edges\n",
    "\n",
    "'P530': 5668,\n",
    "'P463': 2489,\n",
    " 'P150': 2134,\n",
    " 'P2936': 2035"
   ]
  },
  {
   "cell_type": "code",
   "execution_count": 157,
   "id": "f7390348-bcd1-40c8-acb5-5cc3c31691ff",
   "metadata": {},
   "outputs": [
    {
     "data": {
      "text/plain": [
       "6460"
      ]
     },
     "execution_count": 157,
     "metadata": {},
     "output_type": "execute_result"
    }
   ],
   "source": [
    "G3.number_of_nodes()"
   ]
  },
  {
   "cell_type": "code",
   "execution_count": 159,
   "id": "84e1c978-74a6-4cc6-b018-d88624d745b3",
   "metadata": {},
   "outputs": [
    {
     "data": {
      "text/plain": [
       "183"
      ]
     },
     "execution_count": 159,
     "metadata": {},
     "output_type": "execute_result"
    }
   ],
   "source": [
    "len(core3)"
   ]
  },
  {
   "cell_type": "code",
   "execution_count": 154,
   "id": "1ef1843f-fbe9-4c0a-8d2c-35187d689791",
   "metadata": {},
   "outputs": [],
   "source": [
    "def process_gpt_contents(contents, reps):\n",
    "    assert len(d) == 42\n",
    "    tsents = [0]*21\n",
    "    fsents = [0]*21\n",
    "\n",
    "    for i, key in enumerate(contents.keys()):\n",
    "        content = contents[key]\n",
    "        \n",
    "        if i >= 21:\n",
    "            rep = random.choice(reps)\n",
    "            subj = get_label_from_qid(key[1])\n",
    "            content = re.sub(subj, rep, content)\n",
    "            \n",
    "        sentences = content.split(\"\\n\")\n",
    "\n",
    "        if i < 21:\n",
    "            tsents[i] = sentences\n",
    "        else:\n",
    "            fsents[i+21] = sentences\n",
    "\n",
    "    return tsents, fsents"
   ]
  },
  {
   "cell_type": "code",
   "execution_count": null,
   "id": "6ec3c2ed-ff17-4673-a087-7da38b2da7a7",
   "metadata": {},
   "outputs": [],
   "source": []
  }
 ],
 "metadata": {
  "kernelspec": {
   "display_name": "Python 3 (ipykernel)",
   "language": "python",
   "name": "python3"
  },
  "language_info": {
   "codemirror_mode": {
    "name": "ipython",
    "version": 3
   },
   "file_extension": ".py",
   "mimetype": "text/x-python",
   "name": "python",
   "nbconvert_exporter": "python",
   "pygments_lexer": "ipython3",
   "version": "3.9.18"
  }
 },
 "nbformat": 4,
 "nbformat_minor": 5
}
