{
 "cells": [
  {
   "cell_type": "code",
   "execution_count": 9,
   "id": "73fcf721-2607-4c9f-b387-c63ef22f3f0b",
   "metadata": {},
   "outputs": [
    {
     "name": "stdout",
     "output_type": "stream",
     "text": [
      "[('Q146', 'house cat', 'domesticated feline'), ('Q4167836', 'Wikimedia category', \"use with 'instance of' (P31) for Wikimedia category\"), ('Q387278', 'Kellas cat', 'cat'), ('Q300918', 'cat', 'Unix utility that concatenates and lists files'), ('Q10813994', 'Tsim Tung Brother Cream', 'cat')]\n",
      "[('Q76', 'Barack Obama', 'president of the United States from 2009 to 2017'), ('Q61909968', 'Barack Obama', 'Wikimedia disambiguation page')]\n",
      "3\n"
     ]
    }
   ],
   "source": [
    "%run wikidata_functions.ipynb"
   ]
  },
  {
   "cell_type": "code",
   "execution_count": 2,
   "id": "c1f77d33-f025-4b90-b347-b00afcf6de95",
   "metadata": {},
   "outputs": [
    {
     "name": "stderr",
     "output_type": "stream",
     "text": [
      "2023-12-09 00:35:27.457176: I tensorflow/core/platform/cpu_feature_guard.cc:182] This TensorFlow binary is optimized to use available CPU instructions in performance-critical operations.\n",
      "To enable the following instructions: AVX2 FMA, in other operations, rebuild TensorFlow with the appropriate compiler flags.\n"
     ]
    }
   ],
   "source": [
    "import pandas as pd\n",
    "import numpy as np\n",
    "import spacy\n",
    "from spacy.matcher import Matcher \n",
    "import spacy_universal_sentence_encoder\n",
    "import claucy   \n",
    "from bs4 import BeautifulSoup"
   ]
  },
  {
   "cell_type": "code",
   "execution_count": 3,
   "id": "0aa537ae-0282-4215-b5ce-7335f99da681",
   "metadata": {},
   "outputs": [],
   "source": [
    "import re\n",
    "import random\n",
    "import pickle\n",
    "import time\n",
    "import functools"
   ]
  },
  {
   "cell_type": "code",
   "execution_count": 1,
   "id": "8060d8c9-04e3-497f-bfec-2cc818a9c829",
   "metadata": {},
   "outputs": [],
   "source": [
    "from sklearn.model_selection import train_test_split\n",
    "from sklearn.linear_model import LogisticRegression\n",
    "from sklearn.metrics import precision_recall_fscore_support"
   ]
  },
  {
   "cell_type": "code",
   "execution_count": 70,
   "id": "385984d7-14c6-445c-984a-3a99cf69c20b",
   "metadata": {},
   "outputs": [],
   "source": [
    "# function that takes output of get_opt_sentences and returns half true sentences, half false sentences\n",
    "# input: contents, false replacements\n",
    "def process_gpt_contents(contents, reps=None):\n",
    "    assert len(contents) == 42\n",
    "    tsents = [0]*21\n",
    "    fsents = [0]*21\n",
    "\n",
    "    for i, key in enumerate(contents.keys()):\n",
    "        content = contents[key]\n",
    "        \n",
    "        if i >= 21:\n",
    "            if reps:\n",
    "                rep = random.choice(reps)\n",
    "            else:\n",
    "                q1, q2, p = key\n",
    "                q1 = get_label_from_qid2(q1)\n",
    "                q2 = get_label_from_qid2(q2)\n",
    "                p = get_property_from_pid2(p)\n",
    "                \n",
    "                rep = input(f\"Replace the object in the triple {q1, p, q2} to make it false.\")\n",
    "            subj = get_label_from_qid(key[1])\n",
    "            content = re.sub(subj, rep, content)\n",
    "            \n",
    "        sentences = content.split(\"\\n\")\n",
    "\n",
    "        if i < 21:\n",
    "            tsents[i] = sentences\n",
    "        else:\n",
    "            fsents[i-21] = sentences\n",
    "\n",
    "    return tsents, fsents"
   ]
  },
  {
   "cell_type": "markdown",
   "id": "bdfa71df-861b-4b0a-b3d2-f4b3152d8230",
   "metadata": {},
   "source": [
    "https://github.com/explosion/spaCy/blob/master/spacy/glossary.py\n",
    "\n",
    "https://web.archive.org/web/20190206204307/https://www.clips.uantwerpen.be/pages/mbsp-tags\n",
    "\n",
    "Distant supervision for relation extraction without labeled data"
   ]
  },
  {
   "cell_type": "code",
   "execution_count": 13,
   "id": "ff59330f-750a-4da7-bbae-37aec26c8019",
   "metadata": {},
   "outputs": [],
   "source": [
    "def spacy_pos_map(pos):\n",
    "    if pos in [\"NOUN\", \"PRON\", \"PROPN\", \"NN\", \"NND\", \"NNPS\", \"NNS\", \"PRP\", \"PRP$\"]:\n",
    "        return \"NOUN\"\n",
    "    elif pos in [\"VERB\", \"MD\", \"VB\", \"VBD\", \"VBG\", \"VBN\", \"VBP\", \"VBZ\"]:\n",
    "        return \"VERB\"\n",
    "    elif pos in [\"ADV\", \"RB\", \"RBR\", \"RBS\", \"RP\"]:\n",
    "        return \"ADV\"\n",
    "    elif pos in [\"ADJ\", \"JJ\", \"JJR\", \"JJS\"]:\n",
    "        return \"ADJ\"\n",
    "    elif pos in [\"NUM\", \"CD\"]:\n",
    "        return \"NUM\"\n",
    "    elif pos == \"FW\":\n",
    "        return \"FW\"\n",
    "    else:\n",
    "        return \"EE\" # everything else "
   ]
  },
  {
   "cell_type": "code",
   "execution_count": 14,
   "id": "40348960-9ab8-431b-a3fc-e8cf4fda2c4d",
   "metadata": {},
   "outputs": [],
   "source": [
    "def spacy_pos_map2(pos):\n",
    "    if pos in [\"NOUN\", \"PRON\", \"PROPN\", \"NN\", \"NND\", \"NNPS\", \"NNS\", \"PRP\", \"PRP$\"]:\n",
    "        return 1\n",
    "    elif pos in [\"VERB\", \"MD\", \"VB\", \"VBD\", \"VBG\", \"VBN\", \"VBP\", \"VBZ\"]:\n",
    "        return 2\n",
    "    elif pos in [\"ADV\", \"RB\", \"RBR\", \"RBS\", \"RP\"]:\n",
    "        return 3\n",
    "    elif pos in [\"ADJ\", \"JJ\", \"JJR\", \"JJS\"]:\n",
    "        return 4\n",
    "    elif pos in [\"NUM\", \"CD\"]:\n",
    "        return 5\n",
    "    elif pos == \"FW\":\n",
    "        return 6\n",
    "    else:\n",
    "        return 7 # everything else "
   ]
  },
  {
   "cell_type": "code",
   "execution_count": 15,
   "id": "b6c9368f-af6a-4ce4-b1f8-8331a2d52132",
   "metadata": {},
   "outputs": [],
   "source": [
    "# EVERY SENTENCE SHOULD BE SHORTER THAN 100 TOKENS (LIMIT)\n",
    "# 2 NOUNS ONLY\n",
    "def sentences_to_Xy(sents, labels, subj, nlp, use, limit=100):\n",
    "    assert(len(sents) == len(labels))\n",
    "    \n",
    "    n = len(sents)\n",
    "    n_fts = limit + limit + 8 + 1 + 512\n",
    "    # words + pos + left/right + order of noun + universal sentence encoding\n",
    "    \n",
    "    X = np.zeros((n, n_fts))\n",
    "    y = np.zeros(n)\n",
    "\n",
    "    i = 0\n",
    "    for z, sent in enumerate(sents):\n",
    "        doc = nlp(sent)\n",
    "\n",
    "        # two nouns\n",
    "        count = 0 # nouns seen/started\n",
    "        compound = False # currently in a compound word\n",
    "        n_ind = [[-1, -1], [-1, -1]] #starting and end indices of nouns\n",
    "        \n",
    "        for k, tok in enumerate(doc):\n",
    "            p = spacy_pos_map(tok.pos_)\n",
    "            if p == \"NOUN\":\n",
    "                if count == 0: #new noun\n",
    "                    count += 1\n",
    "                    n_ind[0][0] = k\n",
    "                    if tok.dep_ == \"compound\":\n",
    "                        compound = True\n",
    "                    else:\n",
    "                        n_ind[0][1] = k\n",
    "                elif count == 1:\n",
    "                    if compound: #continuation\n",
    "                        n_ind[0][1] = k\n",
    "                        if tok.dep_ != \"compound\": \n",
    "                            compound = False\n",
    "                            \n",
    "                    else: #new noun\n",
    "                        count += 1\n",
    "                        n_ind[1][0] = k\n",
    "                        if tok.dep_ == \"compound\":\n",
    "                            compound = True\n",
    "                        else:\n",
    "                            n_ind[1][1] = k  \n",
    "                elif count == 2:\n",
    "                    if compound: #continuation\n",
    "                        n_ind[1][1] = k\n",
    "                        if tok.dep_ != \"compound\": \n",
    "                            compound = False\n",
    "\n",
    "                    else:  #third noun\n",
    "                        count += 1\n",
    "                        break\n",
    "                        \n",
    "            if count == 3: continue # more than 2 nouns\n",
    "                \n",
    "            if n_ind[1][1] - n_ind[0][0] + 1 > limit: continue # too many tokens, over feature limit\n",
    "\n",
    "        start, end = n_ind[0][0], n_ind[1][1]\n",
    "        # words and pos\n",
    "        for j in range(n_ind[1][1] - n_ind[0][0] + 1):\n",
    "            X[i][j] = int.from_bytes(str(doc[start+j]).encode(), 'big')\n",
    "            X[i][j+limit] = spacy_pos_map2(doc[start+j].pos_)\n",
    "\n",
    "        # left and right\n",
    "        if n_ind[0][0] > 0: #left1\n",
    "            X[i][2*limit] = int.from_bytes(str(doc[start-1]).encode(), 'big')\n",
    "            X[i][2*limit+1] = spacy_pos_map2(doc[start-1].pos_)\n",
    "        if n_ind[0][0] > 1: #left2\n",
    "            X[i][2*limit+2] = int.from_bytes(str(doc[start-2]).encode(), 'big')\n",
    "            X[i][2*limit+3] = spacy_pos_map2(doc[start-2].pos_)\n",
    "        if n_ind[1][1] < len(doc)-1: #right1\n",
    "            X[i][2*limit+4] = int.from_bytes(str(doc[end+1]).encode(), 'big')\n",
    "            X[i][2*limit+5] = spacy_pos_map2(doc[end+1].pos_)\n",
    "        if n_ind[1][1] < len(doc)-2: #right2\n",
    "            X[i][2*limit+6] = int.from_bytes(str(doc[end+2]).encode(), 'big')\n",
    "            X[i][2*limit+7] = spacy_pos_map2(doc[end+2].pos_)\n",
    "\n",
    "        #order\n",
    "        obj_sem = use(\"obj\")\n",
    "        n1_sem = use(str(doc[start:n_ind[0][1]+1]))\n",
    "        n2_sem = use(str(doc[n_ind[1][0]:end+1]))\n",
    "\n",
    "        X[i][2*limit+8] = 0 if obj_sem.similarity(n1_sem) > obj_sem.similarity(n2_sem) else 1\n",
    "\n",
    "        #universal sentence encoding\n",
    "        sem = use(str(doc[n_ind[0][0]:n_ind[1][1]+1]))\n",
    "        X[i][2*limit+9:] = sem.vector\n",
    "\n",
    "        # label\n",
    "        y[i] = 1 if labels[z] else 0\n",
    "        i += 1\n",
    "\n",
    "    return X[:i], y[:i]"
   ]
  },
  {
   "cell_type": "code",
   "execution_count": 16,
   "id": "e30a49c6-678c-466f-a608-ec4c2a18db94",
   "metadata": {},
   "outputs": [],
   "source": [
    "def sentences_to_Xy(sents, labels, nlp, use, limit=100):\n",
    "    assert(len(sents) == len(labels))\n",
    "    \n",
    "    n = len(sents)\n",
    "    n_fts = limit + limit + 512\n",
    "    # words + pos + universal sentence encoding\n",
    "    \n",
    "    X = np.zeros((n, n_fts))\n",
    "    y = np.zeros(n)\n",
    "\n",
    "    i = 0\n",
    "    for z, sent in enumerate(sents):\n",
    "        doc = nlp(sent)\n",
    "        if len(doc) > limit: continue #too long\n",
    "            \n",
    "        for k, tok in enumerate(doc):\n",
    "            X[i][k] = int.from_bytes(str(tok).encode(), 'big')\n",
    "            X[i][k + limit] = spacy_pos_map2(tok.pos_)\n",
    "        \n",
    "        sem = use(sent) #universal sentence encoding\n",
    "        X[i][2*limit:] = sem.vector\n",
    "\n",
    "        # label\n",
    "        y[i] = 1 if labels[z] else 0\n",
    "        i += 1\n",
    "\n",
    "    return X[:i], y[:i]"
   ]
  },
  {
   "cell_type": "code",
   "execution_count": 17,
   "id": "a203a579-cbdf-441c-b870-66de108b012e",
   "metadata": {},
   "outputs": [],
   "source": [
    "nlp = spacy.load('en_core_web_md')\n",
    "claucy.add_to_pipe(nlp)\n",
    "use= spacy.load('en_use_md')"
   ]
  },
  {
   "cell_type": "code",
   "execution_count": 91,
   "id": "fb31383a-bc43-482f-9c1a-34d73b0d32d2",
   "metadata": {},
   "outputs": [
    {
     "name": "stdin",
     "output_type": "stream",
     "text": [
      "Replace the object in the triple ('Russia', 'language used', 'Khakas') to make it false. Chinese\n",
      "Replace the object in the triple ('Philippines', 'language used', 'Kapampangan') to make it false. French\n",
      "Replace the object in the triple ('Russia', 'language used', 'Andi') to make it false. Cantonese\n",
      "Replace the object in the triple ('India', 'language used', 'Punjabi') to make it false. Mongolian\n",
      "Replace the object in the triple ('Democratic Republic of the Congo', 'language used', 'Kongo') to make it false. Thai\n",
      "Replace the object in the triple ('Ghana', 'language used', 'Nyangbo') to make it false. Afrikaans\n",
      "Replace the object in the triple ('Brunei', 'language used', 'Hakka Chinese') to make it false. Arabic\n",
      "Replace the object in the triple ('India', 'language used', 'Angika') to make it false. Polish\n",
      "Replace the object in the triple ('India', 'language used', 'Magahi') to make it false. Turkish\n",
      "Replace the object in the triple ('Vanuatu', 'language used', 'Aulua') to make it false. Greek\n",
      "Replace the object in the triple ('Norway', 'language used', 'Ume Sami') to make it false. Italian\n",
      "Replace the object in the triple ('Poland', 'language used', 'Kashubian') to make it false. Japanese\n",
      "Replace the object in the triple ('Malaysia', 'language used', 'Malaysian Malay') to make it false. Dothraki\n",
      "Replace the object in the triple ('Utah', 'language used', 'Navajo') to make it false. Klingon\n",
      "Replace the object in the triple ('Indonesia', 'language used', 'Bugis') to make it false. Na'vi\n",
      "Replace the object in the triple ('Indonesia', 'language used', 'Baropasi') to make it false. Russian\n",
      "Replace the object in the triple ('Papua New Guinea', 'language used', 'Ramopa') to make it false. Urdu\n",
      "Replace the object in the triple ('Burkina Faso', 'language used', 'Bwamu') to make it false. Javanese\n",
      "Replace the object in the triple ('Turkey', 'language used', 'Kurmanji') to make it false. Gujarati\n",
      "Replace the object in the triple ('Afghanistan', 'language used', 'Waigali') to make it false. Hausa\n",
      "Replace the object in the triple ('Peru', 'language used', 'Huallaga Quechua') to make it false. Portuguese\n"
     ]
    }
   ],
   "source": [
    "contents = pickle.load(open('gpt_responses/P2936.pickle', 'rb'))\n",
    "\n",
    "# reps = [\"ASIA\", \"UNASIA\", \"EARTHSEA\", \"SPACE\", \"EARTH\", \"ARTIC\", \"CORNELL\", \"the Ivy League\", \"the Blue League\", \"SADO\", \"the Climate Group\"]\n",
    "# reps += [\"New York Times\", \"Nobel Organization\", \"SEC\", \"FDA\", \"PLA\", \"SEA\"]\n",
    "\n",
    "tsents, fsents = process_gpt_contents(contents)\n",
    "\n",
    "tsents = list(functools.reduce(lambda x, y: x + y, tsents, []))\n",
    "fsents = list(functools.reduce(lambda x, y: x + y, fsents, []))\n",
    "\n",
    "tX, ty = sentences_to_Xy(tsents, [True] * len(tsents), nlp, use, limit=50)\n",
    "fX, fy = sentences_to_Xy(fsents, [False] * len(fsents), nlp, use, limit=50)\n",
    "\n",
    "X = np.concatenate((tX, fX), axis=0)\n",
    "y = np.concatenate((ty, fy), axis=0)"
   ]
  },
  {
   "cell_type": "code",
   "execution_count": 92,
   "id": "c9c5eda1-fc39-4907-bbcd-1c5f0e070f31",
   "metadata": {},
   "outputs": [],
   "source": [
    "pickle.dump(X, open('models/data/P2936_X.pickle', 'wb'))\n",
    "pickle.dump(y, open('models/data/P2936_y.pickle', 'wb'))"
   ]
  },
  {
   "cell_type": "code",
   "execution_count": 93,
   "id": "c9cf2e6d-c897-49d7-9ee7-c3f419e6188c",
   "metadata": {},
   "outputs": [],
   "source": [
    "X_train, X_test, y_train, y_test = train_test_split(X, y, test_size=1/21, random_state=42)"
   ]
  },
  {
   "cell_type": "code",
   "execution_count": 96,
   "id": "95c79c35-b4a3-4e7a-9d14-e84a4f4701d9",
   "metadata": {},
   "outputs": [
    {
     "data": {
      "text/html": [
       "<style>#sk-container-id-12 {color: black;background-color: white;}#sk-container-id-12 pre{padding: 0;}#sk-container-id-12 div.sk-toggleable {background-color: white;}#sk-container-id-12 label.sk-toggleable__label {cursor: pointer;display: block;width: 100%;margin-bottom: 0;padding: 0.3em;box-sizing: border-box;text-align: center;}#sk-container-id-12 label.sk-toggleable__label-arrow:before {content: \"▸\";float: left;margin-right: 0.25em;color: #696969;}#sk-container-id-12 label.sk-toggleable__label-arrow:hover:before {color: black;}#sk-container-id-12 div.sk-estimator:hover label.sk-toggleable__label-arrow:before {color: black;}#sk-container-id-12 div.sk-toggleable__content {max-height: 0;max-width: 0;overflow: hidden;text-align: left;background-color: #f0f8ff;}#sk-container-id-12 div.sk-toggleable__content pre {margin: 0.2em;color: black;border-radius: 0.25em;background-color: #f0f8ff;}#sk-container-id-12 input.sk-toggleable__control:checked~div.sk-toggleable__content {max-height: 200px;max-width: 100%;overflow: auto;}#sk-container-id-12 input.sk-toggleable__control:checked~label.sk-toggleable__label-arrow:before {content: \"▾\";}#sk-container-id-12 div.sk-estimator input.sk-toggleable__control:checked~label.sk-toggleable__label {background-color: #d4ebff;}#sk-container-id-12 div.sk-label input.sk-toggleable__control:checked~label.sk-toggleable__label {background-color: #d4ebff;}#sk-container-id-12 input.sk-hidden--visually {border: 0;clip: rect(1px 1px 1px 1px);clip: rect(1px, 1px, 1px, 1px);height: 1px;margin: -1px;overflow: hidden;padding: 0;position: absolute;width: 1px;}#sk-container-id-12 div.sk-estimator {font-family: monospace;background-color: #f0f8ff;border: 1px dotted black;border-radius: 0.25em;box-sizing: border-box;margin-bottom: 0.5em;}#sk-container-id-12 div.sk-estimator:hover {background-color: #d4ebff;}#sk-container-id-12 div.sk-parallel-item::after {content: \"\";width: 100%;border-bottom: 1px solid gray;flex-grow: 1;}#sk-container-id-12 div.sk-label:hover label.sk-toggleable__label {background-color: #d4ebff;}#sk-container-id-12 div.sk-serial::before {content: \"\";position: absolute;border-left: 1px solid gray;box-sizing: border-box;top: 0;bottom: 0;left: 50%;z-index: 0;}#sk-container-id-12 div.sk-serial {display: flex;flex-direction: column;align-items: center;background-color: white;padding-right: 0.2em;padding-left: 0.2em;position: relative;}#sk-container-id-12 div.sk-item {position: relative;z-index: 1;}#sk-container-id-12 div.sk-parallel {display: flex;align-items: stretch;justify-content: center;background-color: white;position: relative;}#sk-container-id-12 div.sk-item::before, #sk-container-id-12 div.sk-parallel-item::before {content: \"\";position: absolute;border-left: 1px solid gray;box-sizing: border-box;top: 0;bottom: 0;left: 50%;z-index: -1;}#sk-container-id-12 div.sk-parallel-item {display: flex;flex-direction: column;z-index: 1;position: relative;background-color: white;}#sk-container-id-12 div.sk-parallel-item:first-child::after {align-self: flex-end;width: 50%;}#sk-container-id-12 div.sk-parallel-item:last-child::after {align-self: flex-start;width: 50%;}#sk-container-id-12 div.sk-parallel-item:only-child::after {width: 0;}#sk-container-id-12 div.sk-dashed-wrapped {border: 1px dashed gray;margin: 0 0.4em 0.5em 0.4em;box-sizing: border-box;padding-bottom: 0.4em;background-color: white;}#sk-container-id-12 div.sk-label label {font-family: monospace;font-weight: bold;display: inline-block;line-height: 1.2em;}#sk-container-id-12 div.sk-label-container {text-align: center;}#sk-container-id-12 div.sk-container {/* jupyter's `normalize.less` sets `[hidden] { display: none; }` but bootstrap.min.css set `[hidden] { display: none !important; }` so we also need the `!important` here to be able to override the default hidden behavior on the sphinx rendered scikit-learn.org. See: https://github.com/scikit-learn/scikit-learn/issues/21755 */display: inline-block !important;position: relative;}#sk-container-id-12 div.sk-text-repr-fallback {display: none;}</style><div id=\"sk-container-id-12\" class=\"sk-top-container\"><div class=\"sk-text-repr-fallback\"><pre>LogisticRegression(max_iter=10000, random_state=42, solver=&#x27;saga&#x27;)</pre><b>In a Jupyter environment, please rerun this cell to show the HTML representation or trust the notebook. <br />On GitHub, the HTML representation is unable to render, please try loading this page with nbviewer.org.</b></div><div class=\"sk-container\" hidden><div class=\"sk-item\"><div class=\"sk-estimator sk-toggleable\"><input class=\"sk-toggleable__control sk-hidden--visually\" id=\"sk-estimator-id-12\" type=\"checkbox\" checked><label for=\"sk-estimator-id-12\" class=\"sk-toggleable__label sk-toggleable__label-arrow\">LogisticRegression</label><div class=\"sk-toggleable__content\"><pre>LogisticRegression(max_iter=10000, random_state=42, solver=&#x27;saga&#x27;)</pre></div></div></div></div></div>"
      ],
      "text/plain": [
       "LogisticRegression(max_iter=10000, random_state=42, solver='saga')"
      ]
     },
     "execution_count": 96,
     "metadata": {},
     "output_type": "execute_result"
    }
   ],
   "source": [
    "logreg2000 = LogisticRegression(random_state=42, solver='saga', max_iter=10000)\n",
    "logreg2000.fit(X_train, y_train)\n"
   ]
  },
  {
   "cell_type": "code",
   "execution_count": 97,
   "id": "59b02c27-8c35-4a22-b13b-2c7e629c2d4c",
   "metadata": {},
   "outputs": [],
   "source": [
    "pickle.dump(logreg2000, open('models/logreg_P2936_2000.pickle', 'wb'))"
   ]
  },
  {
   "cell_type": "code",
   "execution_count": 98,
   "id": "57452e90-c3c6-4f9d-8e92-924a496b0f74",
   "metadata": {},
   "outputs": [
    {
     "data": {
      "text/plain": [
       "(0.3125, 0.15151515151515152, 0.20408163265306123, None)"
      ]
     },
     "execution_count": 98,
     "metadata": {},
     "output_type": "execute_result"
    }
   ],
   "source": [
    "logreg2000 = pickle.load(open('models/logreg_P2936_2000.pickle', 'rb'))\n",
    "y_pred = logreg2000.predict(X_test)\n",
    "precision_recall_fscore_support(y_test, y_pred, average='binary')"
   ]
  },
  {
   "cell_type": "code",
   "execution_count": 99,
   "id": "e4cd06ca-a6de-47d0-bb69-e1bdd5f933c6",
   "metadata": {},
   "outputs": [
    {
     "data": {
      "text/html": [
       "<style>#sk-container-id-13 {color: black;background-color: white;}#sk-container-id-13 pre{padding: 0;}#sk-container-id-13 div.sk-toggleable {background-color: white;}#sk-container-id-13 label.sk-toggleable__label {cursor: pointer;display: block;width: 100%;margin-bottom: 0;padding: 0.3em;box-sizing: border-box;text-align: center;}#sk-container-id-13 label.sk-toggleable__label-arrow:before {content: \"▸\";float: left;margin-right: 0.25em;color: #696969;}#sk-container-id-13 label.sk-toggleable__label-arrow:hover:before {color: black;}#sk-container-id-13 div.sk-estimator:hover label.sk-toggleable__label-arrow:before {color: black;}#sk-container-id-13 div.sk-toggleable__content {max-height: 0;max-width: 0;overflow: hidden;text-align: left;background-color: #f0f8ff;}#sk-container-id-13 div.sk-toggleable__content pre {margin: 0.2em;color: black;border-radius: 0.25em;background-color: #f0f8ff;}#sk-container-id-13 input.sk-toggleable__control:checked~div.sk-toggleable__content {max-height: 200px;max-width: 100%;overflow: auto;}#sk-container-id-13 input.sk-toggleable__control:checked~label.sk-toggleable__label-arrow:before {content: \"▾\";}#sk-container-id-13 div.sk-estimator input.sk-toggleable__control:checked~label.sk-toggleable__label {background-color: #d4ebff;}#sk-container-id-13 div.sk-label input.sk-toggleable__control:checked~label.sk-toggleable__label {background-color: #d4ebff;}#sk-container-id-13 input.sk-hidden--visually {border: 0;clip: rect(1px 1px 1px 1px);clip: rect(1px, 1px, 1px, 1px);height: 1px;margin: -1px;overflow: hidden;padding: 0;position: absolute;width: 1px;}#sk-container-id-13 div.sk-estimator {font-family: monospace;background-color: #f0f8ff;border: 1px dotted black;border-radius: 0.25em;box-sizing: border-box;margin-bottom: 0.5em;}#sk-container-id-13 div.sk-estimator:hover {background-color: #d4ebff;}#sk-container-id-13 div.sk-parallel-item::after {content: \"\";width: 100%;border-bottom: 1px solid gray;flex-grow: 1;}#sk-container-id-13 div.sk-label:hover label.sk-toggleable__label {background-color: #d4ebff;}#sk-container-id-13 div.sk-serial::before {content: \"\";position: absolute;border-left: 1px solid gray;box-sizing: border-box;top: 0;bottom: 0;left: 50%;z-index: 0;}#sk-container-id-13 div.sk-serial {display: flex;flex-direction: column;align-items: center;background-color: white;padding-right: 0.2em;padding-left: 0.2em;position: relative;}#sk-container-id-13 div.sk-item {position: relative;z-index: 1;}#sk-container-id-13 div.sk-parallel {display: flex;align-items: stretch;justify-content: center;background-color: white;position: relative;}#sk-container-id-13 div.sk-item::before, #sk-container-id-13 div.sk-parallel-item::before {content: \"\";position: absolute;border-left: 1px solid gray;box-sizing: border-box;top: 0;bottom: 0;left: 50%;z-index: -1;}#sk-container-id-13 div.sk-parallel-item {display: flex;flex-direction: column;z-index: 1;position: relative;background-color: white;}#sk-container-id-13 div.sk-parallel-item:first-child::after {align-self: flex-end;width: 50%;}#sk-container-id-13 div.sk-parallel-item:last-child::after {align-self: flex-start;width: 50%;}#sk-container-id-13 div.sk-parallel-item:only-child::after {width: 0;}#sk-container-id-13 div.sk-dashed-wrapped {border: 1px dashed gray;margin: 0 0.4em 0.5em 0.4em;box-sizing: border-box;padding-bottom: 0.4em;background-color: white;}#sk-container-id-13 div.sk-label label {font-family: monospace;font-weight: bold;display: inline-block;line-height: 1.2em;}#sk-container-id-13 div.sk-label-container {text-align: center;}#sk-container-id-13 div.sk-container {/* jupyter's `normalize.less` sets `[hidden] { display: none; }` but bootstrap.min.css set `[hidden] { display: none !important; }` so we also need the `!important` here to be able to override the default hidden behavior on the sphinx rendered scikit-learn.org. See: https://github.com/scikit-learn/scikit-learn/issues/21755 */display: inline-block !important;position: relative;}#sk-container-id-13 div.sk-text-repr-fallback {display: none;}</style><div id=\"sk-container-id-13\" class=\"sk-top-container\"><div class=\"sk-text-repr-fallback\"><pre>LogisticRegression(max_iter=10000, random_state=42, solver=&#x27;saga&#x27;)</pre><b>In a Jupyter environment, please rerun this cell to show the HTML representation or trust the notebook. <br />On GitHub, the HTML representation is unable to render, please try loading this page with nbviewer.org.</b></div><div class=\"sk-container\" hidden><div class=\"sk-item\"><div class=\"sk-estimator sk-toggleable\"><input class=\"sk-toggleable__control sk-hidden--visually\" id=\"sk-estimator-id-13\" type=\"checkbox\" checked><label for=\"sk-estimator-id-13\" class=\"sk-toggleable__label sk-toggleable__label-arrow\">LogisticRegression</label><div class=\"sk-toggleable__content\"><pre>LogisticRegression(max_iter=10000, random_state=42, solver=&#x27;saga&#x27;)</pre></div></div></div></div></div>"
      ],
      "text/plain": [
       "LogisticRegression(max_iter=10000, random_state=42, solver='saga')"
      ]
     },
     "execution_count": 99,
     "metadata": {},
     "output_type": "execute_result"
    }
   ],
   "source": [
    "X_train, y_train = X_train[:1500], y_train[:1500]\n",
    "logreg1500 = LogisticRegression(random_state=42, solver='saga', max_iter=10000)\n",
    "logreg1500.fit(X_train, y_train)\n"
   ]
  },
  {
   "cell_type": "code",
   "execution_count": 100,
   "id": "29d02bcc-24a1-486b-ba83-4de81bb51425",
   "metadata": {},
   "outputs": [],
   "source": [
    "pickle.dump(logreg1500, open('models/logreg_P2936_1500.pickle', 'wb'))"
   ]
  },
  {
   "cell_type": "code",
   "execution_count": 101,
   "id": "64d2912c-1aa7-4f6b-ab57-ca5c66e2dee0",
   "metadata": {},
   "outputs": [],
   "source": [
    "logreg1500 = pickle.load(open('models/logreg_P2936_1500.pickle', 'rb'))\n",
    "y_pred = logreg1500.predict(X_test)"
   ]
  },
  {
   "cell_type": "code",
   "execution_count": 102,
   "id": "79cdec63-1fa5-481b-94fa-4c9229250bcb",
   "metadata": {},
   "outputs": [
    {
     "data": {
      "text/plain": [
       "(0.37037037037037035, 0.30303030303030304, 0.3333333333333333, None)"
      ]
     },
     "execution_count": 102,
     "metadata": {},
     "output_type": "execute_result"
    }
   ],
   "source": [
    "precision_recall_fscore_support(y_test, y_pred, average='binary')"
   ]
  },
  {
   "cell_type": "code",
   "execution_count": 103,
   "id": "e5d76aa5-119a-4fe2-8336-b5945469252c",
   "metadata": {},
   "outputs": [
    {
     "data": {
      "text/html": [
       "<style>#sk-container-id-14 {color: black;background-color: white;}#sk-container-id-14 pre{padding: 0;}#sk-container-id-14 div.sk-toggleable {background-color: white;}#sk-container-id-14 label.sk-toggleable__label {cursor: pointer;display: block;width: 100%;margin-bottom: 0;padding: 0.3em;box-sizing: border-box;text-align: center;}#sk-container-id-14 label.sk-toggleable__label-arrow:before {content: \"▸\";float: left;margin-right: 0.25em;color: #696969;}#sk-container-id-14 label.sk-toggleable__label-arrow:hover:before {color: black;}#sk-container-id-14 div.sk-estimator:hover label.sk-toggleable__label-arrow:before {color: black;}#sk-container-id-14 div.sk-toggleable__content {max-height: 0;max-width: 0;overflow: hidden;text-align: left;background-color: #f0f8ff;}#sk-container-id-14 div.sk-toggleable__content pre {margin: 0.2em;color: black;border-radius: 0.25em;background-color: #f0f8ff;}#sk-container-id-14 input.sk-toggleable__control:checked~div.sk-toggleable__content {max-height: 200px;max-width: 100%;overflow: auto;}#sk-container-id-14 input.sk-toggleable__control:checked~label.sk-toggleable__label-arrow:before {content: \"▾\";}#sk-container-id-14 div.sk-estimator input.sk-toggleable__control:checked~label.sk-toggleable__label {background-color: #d4ebff;}#sk-container-id-14 div.sk-label input.sk-toggleable__control:checked~label.sk-toggleable__label {background-color: #d4ebff;}#sk-container-id-14 input.sk-hidden--visually {border: 0;clip: rect(1px 1px 1px 1px);clip: rect(1px, 1px, 1px, 1px);height: 1px;margin: -1px;overflow: hidden;padding: 0;position: absolute;width: 1px;}#sk-container-id-14 div.sk-estimator {font-family: monospace;background-color: #f0f8ff;border: 1px dotted black;border-radius: 0.25em;box-sizing: border-box;margin-bottom: 0.5em;}#sk-container-id-14 div.sk-estimator:hover {background-color: #d4ebff;}#sk-container-id-14 div.sk-parallel-item::after {content: \"\";width: 100%;border-bottom: 1px solid gray;flex-grow: 1;}#sk-container-id-14 div.sk-label:hover label.sk-toggleable__label {background-color: #d4ebff;}#sk-container-id-14 div.sk-serial::before {content: \"\";position: absolute;border-left: 1px solid gray;box-sizing: border-box;top: 0;bottom: 0;left: 50%;z-index: 0;}#sk-container-id-14 div.sk-serial {display: flex;flex-direction: column;align-items: center;background-color: white;padding-right: 0.2em;padding-left: 0.2em;position: relative;}#sk-container-id-14 div.sk-item {position: relative;z-index: 1;}#sk-container-id-14 div.sk-parallel {display: flex;align-items: stretch;justify-content: center;background-color: white;position: relative;}#sk-container-id-14 div.sk-item::before, #sk-container-id-14 div.sk-parallel-item::before {content: \"\";position: absolute;border-left: 1px solid gray;box-sizing: border-box;top: 0;bottom: 0;left: 50%;z-index: -1;}#sk-container-id-14 div.sk-parallel-item {display: flex;flex-direction: column;z-index: 1;position: relative;background-color: white;}#sk-container-id-14 div.sk-parallel-item:first-child::after {align-self: flex-end;width: 50%;}#sk-container-id-14 div.sk-parallel-item:last-child::after {align-self: flex-start;width: 50%;}#sk-container-id-14 div.sk-parallel-item:only-child::after {width: 0;}#sk-container-id-14 div.sk-dashed-wrapped {border: 1px dashed gray;margin: 0 0.4em 0.5em 0.4em;box-sizing: border-box;padding-bottom: 0.4em;background-color: white;}#sk-container-id-14 div.sk-label label {font-family: monospace;font-weight: bold;display: inline-block;line-height: 1.2em;}#sk-container-id-14 div.sk-label-container {text-align: center;}#sk-container-id-14 div.sk-container {/* jupyter's `normalize.less` sets `[hidden] { display: none; }` but bootstrap.min.css set `[hidden] { display: none !important; }` so we also need the `!important` here to be able to override the default hidden behavior on the sphinx rendered scikit-learn.org. See: https://github.com/scikit-learn/scikit-learn/issues/21755 */display: inline-block !important;position: relative;}#sk-container-id-14 div.sk-text-repr-fallback {display: none;}</style><div id=\"sk-container-id-14\" class=\"sk-top-container\"><div class=\"sk-text-repr-fallback\"><pre>LogisticRegression(max_iter=10000, random_state=42, solver=&#x27;saga&#x27;)</pre><b>In a Jupyter environment, please rerun this cell to show the HTML representation or trust the notebook. <br />On GitHub, the HTML representation is unable to render, please try loading this page with nbviewer.org.</b></div><div class=\"sk-container\" hidden><div class=\"sk-item\"><div class=\"sk-estimator sk-toggleable\"><input class=\"sk-toggleable__control sk-hidden--visually\" id=\"sk-estimator-id-14\" type=\"checkbox\" checked><label for=\"sk-estimator-id-14\" class=\"sk-toggleable__label sk-toggleable__label-arrow\">LogisticRegression</label><div class=\"sk-toggleable__content\"><pre>LogisticRegression(max_iter=10000, random_state=42, solver=&#x27;saga&#x27;)</pre></div></div></div></div></div>"
      ],
      "text/plain": [
       "LogisticRegression(max_iter=10000, random_state=42, solver='saga')"
      ]
     },
     "execution_count": 103,
     "metadata": {},
     "output_type": "execute_result"
    }
   ],
   "source": [
    "X_train, y_train = X_train[:1000], y_train[:1000]\n",
    "logreg1000 = LogisticRegression(random_state=42, solver='saga', max_iter=10000)\n",
    "logreg1000.fit(X_train, y_train)"
   ]
  },
  {
   "cell_type": "code",
   "execution_count": 104,
   "id": "e3619681-01c3-4ba9-957b-769fe85c26f1",
   "metadata": {},
   "outputs": [],
   "source": [
    "pickle.dump(logreg1000, open('models/logreg_P2936_1000.pickle', 'wb'))"
   ]
  },
  {
   "cell_type": "code",
   "execution_count": 105,
   "id": "2000599e-5580-41fd-b946-6ced73986f92",
   "metadata": {},
   "outputs": [
    {
     "data": {
      "text/plain": [
       "(0.39655172413793105, 0.3484848484848485, 0.3709677419354839, None)"
      ]
     },
     "execution_count": 105,
     "metadata": {},
     "output_type": "execute_result"
    }
   ],
   "source": [
    "logreg1000 = pickle.load(open('models/logreg_P2936_1000.pickle', 'rb'))\n",
    "y_pred = logreg1000.predict(X_test)\n",
    "precision_recall_fscore_support(y_test, y_pred, average='binary')"
   ]
  },
  {
   "cell_type": "code",
   "execution_count": 106,
   "id": "cb36935d-92e9-43a2-af1e-58837594c5be",
   "metadata": {},
   "outputs": [
    {
     "data": {
      "text/html": [
       "<style>#sk-container-id-15 {color: black;background-color: white;}#sk-container-id-15 pre{padding: 0;}#sk-container-id-15 div.sk-toggleable {background-color: white;}#sk-container-id-15 label.sk-toggleable__label {cursor: pointer;display: block;width: 100%;margin-bottom: 0;padding: 0.3em;box-sizing: border-box;text-align: center;}#sk-container-id-15 label.sk-toggleable__label-arrow:before {content: \"▸\";float: left;margin-right: 0.25em;color: #696969;}#sk-container-id-15 label.sk-toggleable__label-arrow:hover:before {color: black;}#sk-container-id-15 div.sk-estimator:hover label.sk-toggleable__label-arrow:before {color: black;}#sk-container-id-15 div.sk-toggleable__content {max-height: 0;max-width: 0;overflow: hidden;text-align: left;background-color: #f0f8ff;}#sk-container-id-15 div.sk-toggleable__content pre {margin: 0.2em;color: black;border-radius: 0.25em;background-color: #f0f8ff;}#sk-container-id-15 input.sk-toggleable__control:checked~div.sk-toggleable__content {max-height: 200px;max-width: 100%;overflow: auto;}#sk-container-id-15 input.sk-toggleable__control:checked~label.sk-toggleable__label-arrow:before {content: \"▾\";}#sk-container-id-15 div.sk-estimator input.sk-toggleable__control:checked~label.sk-toggleable__label {background-color: #d4ebff;}#sk-container-id-15 div.sk-label input.sk-toggleable__control:checked~label.sk-toggleable__label {background-color: #d4ebff;}#sk-container-id-15 input.sk-hidden--visually {border: 0;clip: rect(1px 1px 1px 1px);clip: rect(1px, 1px, 1px, 1px);height: 1px;margin: -1px;overflow: hidden;padding: 0;position: absolute;width: 1px;}#sk-container-id-15 div.sk-estimator {font-family: monospace;background-color: #f0f8ff;border: 1px dotted black;border-radius: 0.25em;box-sizing: border-box;margin-bottom: 0.5em;}#sk-container-id-15 div.sk-estimator:hover {background-color: #d4ebff;}#sk-container-id-15 div.sk-parallel-item::after {content: \"\";width: 100%;border-bottom: 1px solid gray;flex-grow: 1;}#sk-container-id-15 div.sk-label:hover label.sk-toggleable__label {background-color: #d4ebff;}#sk-container-id-15 div.sk-serial::before {content: \"\";position: absolute;border-left: 1px solid gray;box-sizing: border-box;top: 0;bottom: 0;left: 50%;z-index: 0;}#sk-container-id-15 div.sk-serial {display: flex;flex-direction: column;align-items: center;background-color: white;padding-right: 0.2em;padding-left: 0.2em;position: relative;}#sk-container-id-15 div.sk-item {position: relative;z-index: 1;}#sk-container-id-15 div.sk-parallel {display: flex;align-items: stretch;justify-content: center;background-color: white;position: relative;}#sk-container-id-15 div.sk-item::before, #sk-container-id-15 div.sk-parallel-item::before {content: \"\";position: absolute;border-left: 1px solid gray;box-sizing: border-box;top: 0;bottom: 0;left: 50%;z-index: -1;}#sk-container-id-15 div.sk-parallel-item {display: flex;flex-direction: column;z-index: 1;position: relative;background-color: white;}#sk-container-id-15 div.sk-parallel-item:first-child::after {align-self: flex-end;width: 50%;}#sk-container-id-15 div.sk-parallel-item:last-child::after {align-self: flex-start;width: 50%;}#sk-container-id-15 div.sk-parallel-item:only-child::after {width: 0;}#sk-container-id-15 div.sk-dashed-wrapped {border: 1px dashed gray;margin: 0 0.4em 0.5em 0.4em;box-sizing: border-box;padding-bottom: 0.4em;background-color: white;}#sk-container-id-15 div.sk-label label {font-family: monospace;font-weight: bold;display: inline-block;line-height: 1.2em;}#sk-container-id-15 div.sk-label-container {text-align: center;}#sk-container-id-15 div.sk-container {/* jupyter's `normalize.less` sets `[hidden] { display: none; }` but bootstrap.min.css set `[hidden] { display: none !important; }` so we also need the `!important` here to be able to override the default hidden behavior on the sphinx rendered scikit-learn.org. See: https://github.com/scikit-learn/scikit-learn/issues/21755 */display: inline-block !important;position: relative;}#sk-container-id-15 div.sk-text-repr-fallback {display: none;}</style><div id=\"sk-container-id-15\" class=\"sk-top-container\"><div class=\"sk-text-repr-fallback\"><pre>LogisticRegression(max_iter=10000, random_state=42, solver=&#x27;saga&#x27;)</pre><b>In a Jupyter environment, please rerun this cell to show the HTML representation or trust the notebook. <br />On GitHub, the HTML representation is unable to render, please try loading this page with nbviewer.org.</b></div><div class=\"sk-container\" hidden><div class=\"sk-item\"><div class=\"sk-estimator sk-toggleable\"><input class=\"sk-toggleable__control sk-hidden--visually\" id=\"sk-estimator-id-15\" type=\"checkbox\" checked><label for=\"sk-estimator-id-15\" class=\"sk-toggleable__label sk-toggleable__label-arrow\">LogisticRegression</label><div class=\"sk-toggleable__content\"><pre>LogisticRegression(max_iter=10000, random_state=42, solver=&#x27;saga&#x27;)</pre></div></div></div></div></div>"
      ],
      "text/plain": [
       "LogisticRegression(max_iter=10000, random_state=42, solver='saga')"
      ]
     },
     "execution_count": 106,
     "metadata": {},
     "output_type": "execute_result"
    }
   ],
   "source": [
    "X_train, y_train = X_train[:500], y_train[:500]\n",
    "logreg500 = LogisticRegression(random_state=42, solver='saga', max_iter=10000)\n",
    "logreg500.fit(X_train, y_train)"
   ]
  },
  {
   "cell_type": "code",
   "execution_count": 107,
   "id": "9e2d90c6-67d8-47fb-a7f3-a34d628c0c81",
   "metadata": {},
   "outputs": [],
   "source": [
    "pickle.dump(logreg500, open('models/logreg_P2936_500.pickle', 'wb'))"
   ]
  },
  {
   "cell_type": "code",
   "execution_count": 108,
   "id": "4c27ccac-ba05-45c3-b55a-dd2a9c28db2c",
   "metadata": {},
   "outputs": [
    {
     "data": {
      "text/plain": [
       "(0.36764705882352944, 0.3787878787878788, 0.373134328358209, None)"
      ]
     },
     "execution_count": 108,
     "metadata": {},
     "output_type": "execute_result"
    }
   ],
   "source": [
    "logreg500 = pickle.load(open('models/logreg_P2936_500.pickle', 'rb'))\n",
    "y_pred = logreg500.predict(X_test)\n",
    "precision_recall_fscore_support(y_test, y_pred, average='binary')"
   ]
  },
  {
   "cell_type": "code",
   "execution_count": 109,
   "id": "d1211ec1-e7bf-4868-b730-d251e5cdb8bc",
   "metadata": {},
   "outputs": [],
   "source": [
    "scores = {}\n",
    "scores['P530'] = {}\n",
    "scores['P530'][2000] = (0.5172413793103449, 0.5357142857142857, 0.5263157894736843, None)\n",
    "scores['P530'][1500] = (0.5272727272727272, 0.5178571428571429, 0.5225225225225225, None)\n",
    "scores['P530'][1000] = (0.5483870967741935, 0.30357142857142855, 0.3908045977011494, None)\n",
    "scores['P530'][500] = (0.3125, 0.15151515151515152, 0.20408163265306123, None)\n",
    "scores['P463'] = {}\n",
    "scores['P463'][2000] = (0.5306122448979592, 0.8125, 0.6419753086419753, None)\n",
    "scores['P463'][1500] = (0.5321100917431193, 0.90625, 0.6705202312138729, None)\n",
    "scores['P463'][1000] = (0.5402298850574713, 0.734375, 0.6225165562913907, None)\n",
    "scores['P463'][500] = (0.37037037037037035, 0.30303030303030304, 0.3333333333333333, None)\n",
    "scores['P150'] = {}\n",
    "scores['P150'][2000] = (0.5094339622641509, 0.4909090909090909, 0.5, None)\n",
    "scores['P150'][1500] = (0.46296296296296297, 0.45454545454545453, 0.4587155963302752, None)\n",
    "scores['P150'][1000] = (0.4444444444444444, 0.43636363636363634, 0.4403669724770642, None)\n",
    "scores['P150'][500] = (0.40625, 0.23636363636363636, 0.2988505747126437, None)\n",
    "scores['P2936'] = {}\n",
    "scores['P2936'][2000] = (0.5094339622641509, 0.4909090909090909, 0.5, None)\n",
    "scores['P2936'][1500] = (0.46296296296296297, 0.45454545454545453, 0.4587155963302752, None)\n",
    "scores['P2936'][1000] = (0.39655172413793105, 0.3484848484848485, 0.3709677419354839, None)\n",
    "scores['P2936'][500] = (0.36764705882352944, 0.3787878787878788, 0.373134328358209, None)"
   ]
  },
  {
   "cell_type": "code",
   "execution_count": 110,
   "id": "4cd927ed-39d0-4621-b1da-53b7a89d5b76",
   "metadata": {},
   "outputs": [],
   "source": [
    "import matplotlib.pyplot as plt"
   ]
  },
  {
   "cell_type": "code",
   "execution_count": 115,
   "id": "ed5a0a10-f1ba-4aad-825a-ceff57d4f426",
   "metadata": {},
   "outputs": [],
   "source": [
    "x = [500, 1000, 1500, 2000]\n",
    "y = {}\n",
    "for key in scores.keys():\n",
    "    y[key] = {}\n",
    "    y[key]['p'] = [scores[key][xi][0] for xi in x]\n",
    "    y[key]['r'] = [scores[key][xi][1] for xi in x]\n",
    "    y[key]['f'] = [scores[key][xi][2] for xi in x]"
   ]
  },
  {
   "cell_type": "code",
   "execution_count": 141,
   "id": "c200c4a3-4641-4915-8350-e6e6270e40d3",
   "metadata": {},
   "outputs": [
    {
     "data": {
      "image/png": "[encoded data removed]",
      "text/plain": [
       "<Figure size 640x480 with 4 Axes>"
      ]
     },
     "metadata": {},
     "output_type": "display_data"
    }
   ],
   "source": [
    "fig, axs = plt.subplots(2, 2)\n",
    "\n",
    "axs[0, 0].plot(x, y['P530']['p'], 'tab:red', label='precision')\n",
    "axs[0, 0].plot(x, y['P530']['r'], 'tab:blue', label='recall')\n",
    "axs[0, 0].plot(x, y['P530']['f'], 'tab:green', label='f1')\n",
    "axs[0, 0].set_ylim(0, 1)\n",
    "axs[0, 0].set_title('P530: diplomatic relation')\n",
    "axs[0, 1].plot(x, y['P463']['p'], 'tab:red')\n",
    "axs[0, 1].plot(x, y['P463']['r'], 'tab:blue')\n",
    "axs[0, 1].plot(x, y['P463']['f'], 'tab:green')\n",
    "axs[0, 1].set_title('P463: member of')\n",
    "axs[0, 1].set_ylim(0, 1)\n",
    "axs[1, 0].plot(x, y['P150']['p'], 'tab:red')\n",
    "axs[1, 0].plot(x, y['P150']['r'], 'tab:blue')\n",
    "axs[1, 0].plot(x, y['P150']['f'], 'tab:green')\n",
    "axs[1, 0].set_title('P150: contains subterritory')\n",
    "axs[1, 0].set_ylim(0, 1)\n",
    "axs[1, 1].plot(x, y['P2936']['p'], 'tab:red')\n",
    "axs[1, 1].plot(x, y['P2936']['r'], 'tab:blue')\n",
    "axs[1, 1].plot(x, y['P2936']['f'], 'tab:green')\n",
    "axs[1, 1].set_title('P2936: shares border')\n",
    "axs[1, 1].set_ylim(0, 1)\n",
    "\n",
    "axs[0, 0].legend(fontsize=8, loc =\"upper left\")\n",
    "\n",
    "for ax in axs.flat:\n",
    "    # ax.set(xlabel='x-label', ylabel='y-label')\n",
    "    ax.set(xlabel='size of training data')\n",
    "\n",
    "# Hide x labels and tick labels for top plots and y ticks for right plots.\n",
    "for ax in axs.flat:\n",
    "    ax.label_outer()\n",
    "    \n",
    "plt.savefig('scores.png')"
   ]
  },
  {
   "cell_type": "code",
   "execution_count": null,
   "id": "30cc3427-6c99-4c1d-8ac7-2365cb8f0560",
   "metadata": {},
   "outputs": [],
   "source": []
  }
 ],
 "metadata": {
  "kernelspec": {
   "display_name": "Python 3 (ipykernel)",
   "language": "python",
   "name": "python3"
  },
  "language_info": {
   "codemirror_mode": {
    "name": "ipython",
    "version": 3
   },
   "file_extension": ".py",
   "mimetype": "text/x-python",
   "name": "python",
   "nbconvert_exporter": "python",
   "pygments_lexer": "ipython3",
   "version": "3.9.18"
  }
 },
 "nbformat": 4,
 "nbformat_minor": 5
}
